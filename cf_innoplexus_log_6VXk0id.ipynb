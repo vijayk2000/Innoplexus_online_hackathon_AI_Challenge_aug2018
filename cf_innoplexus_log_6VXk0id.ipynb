{
 "cells": [
  {
   "cell_type": "markdown",
   "metadata": {
    "colab_type": "text",
    "id": "jA5NC1q8DLGO"
   },
   "source": [
    "Authenticate the google drive"
   ]
  },
  {
   "cell_type": "code",
   "execution_count": 0,
   "metadata": {
    "colab": {},
    "colab_type": "code",
    "collapsed": true,
    "id": "TafcBM56BHNQ"
   },
   "outputs": [],
   "source": [
    "!pip install -U -q PyDrive\n",
    "\n",
    "from pydrive.auth import GoogleAuth\n",
    "from pydrive.drive import GoogleDrive\n",
    "from google.colab import auth\n",
    "from oauth2client.client import GoogleCredentials\n",
    "\n",
    "import os\n",
    "import pandas as pd\n",
    "\n",
    "auth.authenticate_user()\n",
    "gauth = GoogleAuth()\n",
    "gauth.credentials = GoogleCredentials.get_application_default()\n",
    "drive = GoogleDrive(gauth)\n"
   ]
  },
  {
   "cell_type": "markdown",
   "metadata": {
    "colab_type": "text",
    "id": "1KSP0b3NDKJ5"
   },
   "source": [
    "Find the id for the file"
   ]
  },
  {
   "cell_type": "code",
   "execution_count": 0,
   "metadata": {
    "colab": {},
    "colab_type": "code",
    "collapsed": true,
    "id": "jBSxzF785tLW"
   },
   "outputs": [],
   "source": [
    "download_path = os.path.expanduser('/data')\n",
    "try:\n",
    "  os.makedirs(download_path)\n",
    "except FileExistsError:\n",
    "  pass"
   ]
  },
  {
   "cell_type": "code",
   "execution_count": 121,
   "metadata": {
    "colab": {
     "base_uri": "https://localhost:8080/",
     "height": 35
    },
    "colab_type": "code",
    "id": "5sxETKHVgwOo",
    "outputId": "43519b0d-119c-4843-c030-98c39b380b00"
   },
   "outputs": [
    {
     "name": "stdout",
     "output_type": "stream",
     "text": [
      "/data\n"
     ]
    }
   ],
   "source": [
    "cd /data"
   ]
  },
  {
   "cell_type": "code",
   "execution_count": 0,
   "metadata": {
    "colab": {
     "base_uri": "https://localhost:8080/",
     "height": 71
    },
    "colab_type": "code",
    "id": "FEpWPPS8OUhL",
    "outputId": "0892c73d-3cda-4810-ec1e-7d84193f9d88"
   },
   "outputs": [
    {
     "name": "stdout",
     "output_type": "stream",
     "text": [
      "Archive:  train.zip\r\n",
      "  inflating: /data/train.csv         \n",
      "  inflating: /data/html_data.csv     \n"
     ]
    }
   ],
   "source": [
    "!unzip train.zip -d /data"
   ]
  },
  {
   "cell_type": "code",
   "execution_count": 0,
   "metadata": {
    "colab": {},
    "colab_type": "code",
    "collapsed": true,
    "id": "x_iFAK9TYB5-"
   },
   "outputs": [],
   "source": [
    "import os\n",
    "os.chdir('/data')"
   ]
  },
  {
   "cell_type": "code",
   "execution_count": 122,
   "metadata": {
    "colab": {
     "base_uri": "https://localhost:8080/",
     "height": 35
    },
    "colab_type": "code",
    "id": "EEvxMivyazJU",
    "outputId": "b7acf94a-d9bf-4ed0-a174-1b39ad79852e"
   },
   "outputs": [
    {
     "name": "stdout",
     "output_type": "stream",
     "text": [
      "html_data.csv  submission.csv  test_nvPHrOx.csv  train.csv  train.zip\r\n"
     ]
    }
   ],
   "source": [
    "ls"
   ]
  },
  {
   "cell_type": "code",
   "execution_count": 0,
   "metadata": {
    "colab": {},
    "colab_type": "code",
    "collapsed": true,
    "id": "vrfwwzan-nTq"
   },
   "outputs": [],
   "source": [
    "%matplotlib inline\n",
    "import pandas as pd\n",
    "import matplotlib.pyplot as plt"
   ]
  },
  {
   "cell_type": "code",
   "execution_count": 0,
   "metadata": {
    "colab": {},
    "colab_type": "code",
    "collapsed": true,
    "id": "UeoIIeYk-qmz"
   },
   "outputs": [],
   "source": [
    "train=pd.read_csv('train.csv')\n",
    "test=pd.read_csv('test_nvPHrOx.csv')"
   ]
  },
  {
   "cell_type": "code",
   "execution_count": 0,
   "metadata": {
    "colab": {
     "base_uri": "https://localhost:8080/",
     "height": 35
    },
    "colab_type": "code",
    "id": "YEKNG32LDvlQ",
    "outputId": "887a27e1-d6a1-4dc8-b066-88887b3eb996"
   },
   "outputs": [
    {
     "data": {
      "text/plain": [
       "Index(['Webpage_id', 'Domain', 'Url', 'Tag'], dtype='object')"
      ]
     },
     "execution_count": 6,
     "metadata": {
      "tags": []
     },
     "output_type": "execute_result"
    }
   ],
   "source": [
    "train.keys()"
   ]
  },
  {
   "cell_type": "code",
   "execution_count": 0,
   "metadata": {
    "colab": {},
    "colab_type": "code",
    "collapsed": true,
    "id": "ocK3hFIe_aI8"
   },
   "outputs": [],
   "source": [
    "pivottable=train.pivot_table(index=['Domain', 'Url','Tag'],  aggfunc=len, fill_value=0).reset_index()"
   ]
  },
  {
   "cell_type": "code",
   "execution_count": 0,
   "metadata": {
    "colab": {},
    "colab_type": "code",
    "collapsed": true,
    "id": "AAWtZWQzFq3o"
   },
   "outputs": [],
   "source": [
    "mod=pivottable[pivottable['Webpage_id']!=1]"
   ]
  },
  {
   "cell_type": "code",
   "execution_count": 0,
   "metadata": {
    "colab": {},
    "colab_type": "code",
    "collapsed": true,
    "id": "l9YgWU3zHidf"
   },
   "outputs": [],
   "source": [
    "mod.to_csv('mod.csv')"
   ]
  },
  {
   "cell_type": "code",
   "execution_count": 0,
   "metadata": {
    "colab": {
     "base_uri": "https://localhost:8080/",
     "height": 327
    },
    "colab_type": "code",
    "id": "XOZbdu0GKQhP",
    "outputId": "6fdb619b-59cb-40db-fe49-8f61f85cb013"
   },
   "outputs": [
    {
     "data": {
      "text/plain": [
       "([0, 1, 2, 3, 4, 5, 6, 7, 8], <a list of 9 Text xticklabel objects>)"
      ]
     },
     "execution_count": 19,
     "metadata": {
      "tags": []
     },
     "output_type": "execute_result"
    },
    {
     "data": {
      "image/png": "[encoded data removed]",
      "text/plain": [
       "<matplotlib.figure.Figure at 0x7fc7c62f4c18>"
      ]
     },
     "metadata": {
      "tags": []
     },
     "output_type": "display_data"
    }
   ],
   "source": [
    "plt.hist(train['Tag'])\n",
    "plt.xticks(rotation='vertical')"
   ]
  },
  {
   "cell_type": "code",
   "execution_count": 111,
   "metadata": {
    "colab": {
     "base_uri": "https://localhost:8080/",
     "height": 89
    },
    "colab_type": "code",
    "id": "UZudoJX3QubC",
    "outputId": "d45084dc-305b-4b25-9610-1060ae80b90a"
   },
   "outputs": [
    {
     "name": "stdout",
     "output_type": "stream",
     "text": [
      "[nltk_data] Downloading package punkt to /content/nltk_data...\n",
      "[nltk_data]   Package punkt is already up-to-date!\n",
      "[nltk_data] Downloading package wordnet to /content/nltk_data...\n",
      "[nltk_data]   Package wordnet is already up-to-date!\n"
     ]
    }
   ],
   "source": [
    "from sklearn.feature_extraction.text import TfidfVectorizer, CountVectorizer\n",
    "from sklearn.model_selection import train_test_split, cross_val_predict\n",
    "from sklearn import svm\n",
    "from sklearn.naive_bayes import MultinomialNB\n",
    "from sklearn.linear_model import LogisticRegression\n",
    "from sklearn.metrics import f1_score\n",
    "from sklearn import preprocessing, decomposition, model_selection, metrics, pipeline\n",
    "from sklearn.model_selection import train_test_split, GridSearchCV\n",
    "from sklearn.decomposition import TruncatedSVD\n",
    "from nltk.stem import WordNetLemmatizer\n",
    "import nltk\n",
    "from nltk.tokenize import sent_tokenize, word_tokenize\n",
    "nltk.download('punkt')\n",
    "nltk.download('wordnet')\n",
    "import xgboost as xgb\n"
   ]
  },
  {
   "cell_type": "code",
   "execution_count": 80,
   "metadata": {
    "colab": {
     "base_uri": "https://localhost:8080/",
     "height": 125
    },
    "colab_type": "code",
    "id": "1ha1vDrmXJ0b",
    "outputId": "939baa2e-cbd4-431d-c523-7706c570b001"
   },
   "outputs": [
    {
     "data": {
      "text/plain": [
       "0    http,:,//www.fiercepharma.com/marketing/tecfid...\n",
       "1    http,:,//www.fiercepharma.com/pharma/novo-equi...\n",
       "2    http,:,//www.fiercepharma.com/pharma/another-e...\n",
       "3    http,:,//www.fiercepharma.com/pharma/teva-buy-...\n",
       "4    http,:,//www.fiercepharma.com/marketing/actres...\n",
       "Name: Url, dtype: object"
      ]
     },
     "execution_count": 80,
     "metadata": {
      "tags": []
     },
     "output_type": "execute_result"
    }
   ],
   "source": [
    "train['Url'].head()"
   ]
  },
  {
   "cell_type": "code",
   "execution_count": 0,
   "metadata": {
    "colab": {},
    "colab_type": "code",
    "collapsed": true,
    "id": "BHVmd0GMYWDq"
   },
   "outputs": [],
   "source": [
    "#function to convert lists to strings\n",
    "def conv_string(x):\n",
    "    a=[\"\".join(Url) for Url in x]\n",
    "    \n",
    "    return a\n",
    "  \n",
    "def tok_string(x):\n",
    "    a=[\",\".join(Url) for Url in x]\n",
    "    \n",
    "    return a\n",
    "  \n",
    "train['Url']=conv_string(train['Url'])\n",
    "test['Url']=conv_string(test['Url'])\n",
    "tok=word_tokenize\n",
    "train['Url']=[tok(w) for w in train['Url']]\n",
    "test['Url']=[tok(w) for w in test['Url']]\n",
    "train['Url']=tok_string(train['Url'])\n",
    "test['Url']=tok_string(test['Url'])  \n",
    "lemmatizer=WordNetLemmatizer()\n",
    "train['Url']=[lemmatizer.lemmatize(w) for w in train['Url']]\n",
    "test['Url']=[lemmatizer.lemmatize(w) for w in test['Url']]\n",
    "train['Url']=conv_string(train['Url'])\n",
    "test['Url']=conv_string(test['Url'])"
   ]
  },
  {
   "cell_type": "code",
   "execution_count": 0,
   "metadata": {
    "colab": {},
    "colab_type": "code",
    "collapsed": true,
    "id": "lPBwIr7tYgkB"
   },
   "outputs": [],
   "source": [
    "lblencdr=preprocessing.LabelEncoder()\n",
    "y=lblencdr.fit_transform(train['Tag'].values)"
   ]
  },
  {
   "cell_type": "code",
   "execution_count": 82,
   "metadata": {
    "colab": {
     "base_uri": "https://localhost:8080/",
     "height": 35
    },
    "colab_type": "code",
    "id": "Z2iXVXKjZX3y",
    "outputId": "99af3665-84fd-4824-b8a8-8b750c0e278b"
   },
   "outputs": [
    {
     "data": {
      "text/plain": [
       "pandas.core.series.Series"
      ]
     },
     "execution_count": 82,
     "metadata": {
      "tags": []
     },
     "output_type": "execute_result"
    }
   ],
   "source": [
    "type(train.Url)"
   ]
  },
  {
   "cell_type": "code",
   "execution_count": 83,
   "metadata": {
    "colab": {
     "base_uri": "https://localhost:8080/",
     "height": 125
    },
    "colab_type": "code",
    "id": "hmTShiDTSPvl",
    "outputId": "67ab5fb1-e03d-4621-bd52-b5bc9e7de259"
   },
   "outputs": [
    {
     "data": {
      "text/plain": [
       "0    http,:,//www.fiercepharma.com/marketing/tecfid...\n",
       "1    http,:,//www.fiercepharma.com/pharma/novo-equi...\n",
       "2    http,:,//www.fiercepharma.com/pharma/another-e...\n",
       "3    http,:,//www.fiercepharma.com/pharma/teva-buy-...\n",
       "4    http,:,//www.fiercepharma.com/marketing/actres...\n",
       "Name: Url, dtype: object"
      ]
     },
     "execution_count": 83,
     "metadata": {
      "tags": []
     },
     "output_type": "execute_result"
    }
   ],
   "source": [
    "train['Url'].head()"
   ]
  },
  {
   "cell_type": "code",
   "execution_count": 0,
   "metadata": {
    "colab": {
     "base_uri": "https://localhost:8080/",
     "height": 121
    },
    "colab_type": "code",
    "id": "AwxEVM79ZqWR",
    "outputId": "e6d79853-9175-4b86-9691-24c6ee4dedcc"
   },
   "outputs": [
    {
     "data": {
      "text/plain": [
       "0    http://www.fiercepharma.com/marketing/tecfider...\n",
       "1    http://www.fiercepharma.com/pharma/novo-equipp...\n",
       "2    http://www.fiercepharma.com/pharma/another-exe...\n",
       "3    http://www.fiercepharma.com/pharma/teva-buy-bi...\n",
       "4    http://www.fiercepharma.com/marketing/actress-...\n",
       "Name: Url, dtype: object"
      ]
     },
     "execution_count": 40,
     "metadata": {
      "tags": []
     },
     "output_type": "execute_result"
    }
   ],
   "source": [
    "#train.Url.str.join('').head()"
   ]
  },
  {
   "cell_type": "code",
   "execution_count": 0,
   "metadata": {
    "colab": {},
    "colab_type": "code",
    "collapsed": true,
    "id": "X0kegngtaNOr"
   },
   "outputs": [],
   "source": [
    "X_train, X_val, y_train, y_val=train_test_split(train['Url'],y, stratify=y,\n",
    "                                               random_state=1,\n",
    "                                               test_size=0.2,\n",
    "                                               shuffle=True)"
   ]
  },
  {
   "cell_type": "code",
   "execution_count": 85,
   "metadata": {
    "colab": {
     "base_uri": "https://localhost:8080/",
     "height": 53
    },
    "colab_type": "code",
    "id": "0k-iSbLoalGg",
    "outputId": "dbb0f3a8-c5a1-464b-b519-efd96770614b"
   },
   "outputs": [
    {
     "name": "stdout",
     "output_type": "stream",
     "text": [
      "(42757,)\n",
      "(10690,)\n"
     ]
    }
   ],
   "source": [
    "print(X_train.shape)\n",
    "print(X_val.shape)"
   ]
  },
  {
   "cell_type": "code",
   "execution_count": 0,
   "metadata": {
    "colab": {},
    "colab_type": "code",
    "collapsed": true,
    "id": "R614LVmtdAD4"
   },
   "outputs": [],
   "source": [
    "vect=TfidfVectorizer(max_features=None, \n",
    "            strip_accents='unicode', analyzer='word',token_pattern=r'\\w{1,}',\n",
    "            ngram_range=(1, 3), stop_words='english', binary=False).fit(list(X_train)+list(X_val))\n",
    "X_train_vect=vect.transform(X_train)\n",
    "x_valid_vect=vect.transform(X_val)"
   ]
  },
  {
   "cell_type": "code",
   "execution_count": 88,
   "metadata": {
    "colab": {
     "base_uri": "https://localhost:8080/",
     "height": 35
    },
    "colab_type": "code",
    "id": "QfhudURZeLkv",
    "outputId": "131085eb-dc7f-4fbc-e032-384315666d5b"
   },
   "outputs": [
    {
     "name": "stdout",
     "output_type": "stream",
     "text": [
      "0.9712815715622076\n"
     ]
    }
   ],
   "source": [
    "model = LogisticRegression(C=10.0)\n",
    "model.fit(X_train_vect, y_train)\n",
    "predictions=model.predict(vect.transform(X_val))\n",
    "print(f1_score(predictions, y_val, average='micro'))\n"
   ]
  },
  {
   "cell_type": "code",
   "execution_count": 98,
   "metadata": {
    "colab": {
     "base_uri": "https://localhost:8080/",
     "height": 35
    },
    "colab_type": "code",
    "id": "YxVBIL-nj7SN",
    "outputId": "597a3a92-c4aa-4e90-b32b-b3757ac58032"
   },
   "outputs": [
    {
     "name": "stdout",
     "output_type": "stream",
     "text": [
      "0.9258185219831618\n"
     ]
    }
   ],
   "source": [
    "model=MultinomialNB()\n",
    "model.fit(X_train_vect, y_train)\n",
    "predictions=model.predict(vect.transform(X_val))\n",
    "print(f1_score(predictions, y_val, average='micro'))\n"
   ]
  },
  {
   "cell_type": "code",
   "execution_count": 126,
   "metadata": {
    "colab": {
     "base_uri": "https://localhost:8080/",
     "height": 611
    },
    "colab_type": "code",
    "id": "k8_DI6wNlt68",
    "outputId": "7b4cb8dd-0fae-42a7-fff3-55d8636be6e4"
   },
   "outputs": [
    {
     "name": "stdout",
     "output_type": "stream",
     "text": [
      "Fitting 2 folds for each of 6 candidates, totalling 12 fits\n",
      "[CV] nb__alpha=0.001 .................................................\n",
      "[CV] nb__alpha=0.001 .................................................\n",
      "[CV] ........ nb__alpha=0.001, score=0.9197418268556194, total=   0.3s\n",
      "[CV] nb__alpha=0.01 ..................................................\n",
      "[CV] ........ nb__alpha=0.001, score=0.9209861526946108, total=   0.3s\n",
      "[CV] nb__alpha=0.01 ..................................................\n"
     ]
    },
    {
     "name": "stderr",
     "output_type": "stream",
     "text": [
      "[Parallel(n_jobs=-1)]: Done   1 tasks      | elapsed:    0.4s\n"
     ]
    },
    {
     "name": "stdout",
     "output_type": "stream",
     "text": [
      "[CV] ......... nb__alpha=0.01, score=0.9266170899396661, total=   0.2s\n",
      "[CV] nb__alpha=0.1 ...................................................\n",
      "[CV] ......... nb__alpha=0.01, score=0.9287050898203593, total=   0.3s\n",
      "[CV] nb__alpha=0.1 ...................................................\n"
     ]
    },
    {
     "name": "stderr",
     "output_type": "stream",
     "text": [
      "[Parallel(n_jobs=-1)]: Done   4 tasks      | elapsed:    0.8s\n"
     ]
    },
    {
     "name": "stdout",
     "output_type": "stream",
     "text": [
      "[CV] .......... nb__alpha=0.1, score=0.9451382068191385, total=   0.2s\n",
      "[CV] nb__alpha=1 .....................................................\n",
      "[CV] .......... nb__alpha=0.1, score=0.9469966317365269, total=   0.2s\n",
      "[CV] nb__alpha=1 .....................................................\n",
      "[CV] ............ nb__alpha=1, score=0.8968710537393012, total=   0.2s\n",
      "[CV] nb__alpha=10 ....................................................\n",
      "[CV] ............ nb__alpha=1, score=0.8985310628742516, total=   0.2s\n",
      "[CV] nb__alpha=10 ....................................................\n",
      "[CV] ........... nb__alpha=10, score=0.5801880173986249, total=   0.3s\n",
      "[CV] nb__alpha=100 ...................................................\n",
      "[CV] ........... nb__alpha=10, score=0.5726047904191617, total=   0.3s\n",
      "[CV] nb__alpha=100 ...................................................\n"
     ]
    },
    {
     "name": "stderr",
     "output_type": "stream",
     "text": [
      "[Parallel(n_jobs=-1)]: Done   9 tasks      | elapsed:    1.6s\n"
     ]
    },
    {
     "name": "stdout",
     "output_type": "stream",
     "text": [
      "[CV] .......... nb__alpha=100, score=0.3309480379776437, total=   0.4s\n",
      "[CV] .......... nb__alpha=100, score=0.3340662425149701, total=   0.3s\n"
     ]
    },
    {
     "name": "stderr",
     "output_type": "stream",
     "text": [
      "[Parallel(n_jobs=-1)]: Done  12 out of  12 | elapsed:    2.1s finished\n"
     ]
    },
    {
     "name": "stdout",
     "output_type": "stream",
     "text": [
      "Best score: 0.946\n",
      "Best parameters set:\n",
      "\tnb__alpha: 0.1\n",
      "0.9514499532273153\n"
     ]
    }
   ],
   "source": [
    "nb_model = MultinomialNB()\n",
    "# Create the pipeline \n",
    "clf = pipeline.Pipeline([('nb', nb_model)])\n",
    "\n",
    "my_scorer = metrics.make_scorer(f1_score,average='micro', greater_is_better=True)\n",
    "# parameter grid\n",
    "param_grid = {'nb__alpha': [0.001, 0.01, 0.1, 1, 10, 100]}\n",
    "\n",
    "# Initialize Grid Search Model\n",
    "model = GridSearchCV(estimator=clf, param_grid=param_grid, scoring=my_scorer,\n",
    "                                 verbose=10, n_jobs=-1, iid=True, refit=True, cv=2)\n",
    "\n",
    "# Fit Grid Search Model\n",
    "model.fit(X_train_vect, y_train) \n",
    "print(\"Best score: %0.3f\" % model.best_score_)\n",
    "print(\"Best parameters set:\")\n",
    "best_parameters = model.best_estimator_.get_params()\n",
    "for param_name in sorted(param_grid.keys()):\n",
    "    print(\"\\t%s: %r\" % (param_name, best_parameters[param_name]))\n",
    "    \n",
    "predictions=model.predict(vect.transform(X_val))\n",
    "print(f1_score(predictions, y_val, average='micro'))    "
   ]
  },
  {
   "cell_type": "code",
   "execution_count": 113,
   "metadata": {
    "colab": {
     "base_uri": "https://localhost:8080/",
     "height": 35
    },
    "colab_type": "code",
    "id": "fFcqwsERoVcM",
    "outputId": "98819bb4-ed58-460e-fa9d-a69986e78e60"
   },
   "outputs": [
    {
     "name": "stdout",
     "output_type": "stream",
     "text": [
      "0.9514499532273153\n"
     ]
    }
   ],
   "source": [
    "clf = xgb.XGBClassifier(max_depth=7, n_estimators=200, colsample_bytree=0.8, \n",
    "                        subsample=0.8, nthread=10, learning_rate=0.1)\n",
    "clf.fit(X_train_vect, y_train)\n",
    "predictions=model.predict(vect.transform(X_val))\n",
    "print(f1_score(predictions, y_val, average='micro'))"
   ]
  },
  {
   "cell_type": "code",
   "execution_count": 137,
   "metadata": {
    "colab": {
     "base_uri": "https://localhost:8080/",
     "height": 2069
    },
    "colab_type": "code",
    "id": "vzgzcuLZv1Pv",
    "outputId": "1c54c86f-386f-4bae-ad2a-3146ffca6c6c"
   },
   "outputs": [
    {
     "name": "stdout",
     "output_type": "stream",
     "text": [
      "Fitting 5 folds for each of 10 candidates, totalling 50 fits\n",
      "[CV] lr__C=0.01, lr__penalty=l1 ......................................\n",
      "[CV] lr__C=0.01, lr__penalty=l1 ......................................\n",
      "[CV] lr__C=0.01, lr__penalty=l1 ......................................\n",
      "[CV] lr__C=0.01, lr__penalty=l1 ......................................\n",
      "[CV] lr__C=0.01, lr__penalty=l1 ......................................\n",
      "[CV] lr__C=0.01, lr__penalty=l2 ......................................\n",
      "[CV] lr__C=0.01, lr__penalty=l2 ......................................\n",
      "[CV] lr__C=0.01, lr__penalty=l2 ......................................\n",
      "[CV]  lr__C=0.01, lr__penalty=l2, score=0.3851730589335828, total=  23.5s\n",
      "[CV] lr__C=0.01, lr__penalty=l2 ......................................\n",
      "[CV]  lr__C=0.01, lr__penalty=l2, score=0.3841028638223261, total=  23.8s\n",
      "[CV] lr__C=0.01, lr__penalty=l2 ......................................\n",
      "[CV]  lr__C=0.01, lr__penalty=l2, score=0.38473228898760814, total=  23.8s\n"
     ]
    },
    {
     "name": "stderr",
     "output_type": "stream",
     "text": [
      "[Parallel(n_jobs=8)]: Done   2 tasks      | elapsed:   24.6s\n"
     ]
    },
    {
     "name": "stdout",
     "output_type": "stream",
     "text": [
      "[CV] lr__C=0.1, lr__penalty=l1 .......................................\n",
      "[CV]  lr__C=0.01, lr__penalty=l1, score=0.3929865575686733, total=  26.8s\n",
      "[CV] lr__C=0.1, lr__penalty=l1 .......................................\n",
      "[CV]  lr__C=0.01, lr__penalty=l1, score=0.39361702127659576, total=  26.9s\n",
      "[CV] lr__C=0.1, lr__penalty=l1 .......................................\n",
      "[CV]  lr__C=0.01, lr__penalty=l1, score=0.39241839241839244, total=  27.4s\n",
      "[CV] lr__C=0.1, lr__penalty=l1 .......................................\n",
      "[CV]  lr__C=0.01, lr__penalty=l1, score=0.3931244153414406, total=  27.7s\n",
      "[CV] lr__C=0.1, lr__penalty=l1 .......................................\n",
      "[CV]  lr__C=0.01, lr__penalty=l1, score=0.39302842437712016, total=  28.5s\n",
      "[CV] lr__C=0.1, lr__penalty=l2 .......................................\n",
      "[CV]  lr__C=0.01, lr__penalty=l2, score=0.38226693180488946, total=  24.3s\n",
      "[CV] lr__C=0.1, lr__penalty=l2 .......................................\n"
     ]
    },
    {
     "name": "stderr",
     "output_type": "stream",
     "text": [
      "[Parallel(n_jobs=8)]: Done   9 tasks      | elapsed:   49.1s\n"
     ]
    },
    {
     "name": "stdout",
     "output_type": "stream",
     "text": [
      "[CV]  lr__C=0.01, lr__penalty=l2, score=0.3824733824733824, total=  24.5s\n",
      "[CV] lr__C=0.1, lr__penalty=l2 .......................................\n",
      "[CV]  lr__C=0.1, lr__penalty=l2, score=0.8009351256575102, total=  38.2s\n",
      "[CV] lr__C=0.1, lr__penalty=l2 .......................................\n",
      "[CV]  lr__C=0.1, lr__penalty=l2, score=0.8130699088145896, total=  38.0s\n",
      "[CV] lr__C=0.1, lr__penalty=l2 .......................................\n",
      "[CV]  lr__C=0.1, lr__penalty=l2, score=0.8029700654817586, total=  37.9s\n",
      "[CV] lr__C=1, lr__penalty=l1 .........................................\n",
      "[CV]  lr__C=0.1, lr__penalty=l1, score=0.7759205143191116, total= 1.0min\n",
      "[CV] lr__C=1, lr__penalty=l1 .........................................\n",
      "[CV]  lr__C=0.1, lr__penalty=l1, score=0.783132530120482, total= 1.1min\n",
      "[CV] lr__C=1, lr__penalty=l1 .........................................\n",
      "[CV]  lr__C=0.1, lr__penalty=l1, score=0.79249473930325, total= 1.2min\n",
      "[CV] lr__C=1, lr__penalty=l1 .........................................\n"
     ]
    },
    {
     "name": "stderr",
     "output_type": "stream",
     "text": [
      "[Parallel(n_jobs=8)]: Done  16 tasks      | elapsed:  1.6min\n"
     ]
    },
    {
     "name": "stdout",
     "output_type": "stream",
     "text": [
      "[CV]  lr__C=0.1, lr__penalty=l1, score=0.778999064546305, total= 1.2min\n",
      "[CV] lr__C=1, lr__penalty=l1 .........................................\n",
      "[CV]  lr__C=0.1, lr__penalty=l1, score=0.7835497835497836, total= 1.2min\n",
      "[CV] lr__C=1, lr__penalty=l2 .........................................\n",
      "[CV]  lr__C=0.1, lr__penalty=l2, score=0.8064101064451984, total=  37.8s\n",
      "[CV] lr__C=1, lr__penalty=l2 .........................................\n",
      "[CV]  lr__C=0.1, lr__penalty=l2, score=0.8022698022698023, total=  36.3s\n",
      "[CV] lr__C=1, lr__penalty=l2 .........................................\n",
      "[CV]  lr__C=1, lr__penalty=l2, score=0.9491525423728814, total=  48.2s\n",
      "[CV] lr__C=1, lr__penalty=l2 .........................................\n",
      "[CV]  lr__C=1, lr__penalty=l2, score=0.9525368248772504, total=  50.0s\n",
      "[CV] lr__C=1, lr__penalty=l2 .........................................\n",
      "[CV]  lr__C=1, lr__penalty=l2, score=0.9499532273152479, total=  49.5s\n",
      "[CV] lr__C=10, lr__penalty=l1 ........................................\n",
      "[CV]  lr__C=1, lr__penalty=l2, score=0.9514563106796117, total=  46.6s\n",
      "[CV] lr__C=10, lr__penalty=l1 ........................................\n",
      "[CV]  lr__C=1, lr__penalty=l2, score=0.9517959517959518, total=  48.3s\n",
      "[CV] lr__C=10, lr__penalty=l1 ........................................\n"
     ]
    },
    {
     "name": "stderr",
     "output_type": "stream",
     "text": [
      "[Parallel(n_jobs=8)]: Done  25 tasks      | elapsed:  3.4min\n"
     ]
    },
    {
     "name": "stdout",
     "output_type": "stream",
     "text": [
      "[CV]  lr__C=1, lr__penalty=l1, score=0.9443600233781414, total= 2.4min\n",
      "[CV] lr__C=10, lr__penalty=l1 ........................................\n",
      "[CV]  lr__C=1, lr__penalty=l1, score=0.9473499473499474, total= 3.7min\n",
      "[CV] lr__C=10, lr__penalty=l1 ........................................\n",
      "[CV]  lr__C=1, lr__penalty=l1, score=0.9517184942716858, total= 5.5min\n",
      "[CV] lr__C=10, lr__penalty=l2 ........................................\n",
      "[CV]  lr__C=1, lr__penalty=l1, score=0.9474792373377003, total= 5.6min\n",
      "[CV] lr__C=10, lr__penalty=l2 ........................................\n",
      "[CV]  lr__C=10, lr__penalty=l1, score=0.9690022224821616, total= 4.3min\n",
      "[CV] lr__C=10, lr__penalty=l2 ........................................\n",
      "[CV]  lr__C=10, lr__penalty=l2, score=0.9659848042080654, total= 1.1min\n",
      "[CV] lr__C=10, lr__penalty=l2 ........................................\n",
      "[CV]  lr__C=10, lr__penalty=l2, score=0.9710077156885667, total= 1.2min\n",
      "[CV] lr__C=10, lr__penalty=l2 ........................................\n",
      "[CV]  lr__C=1, lr__penalty=l1, score=0.9453928905519177, total= 7.1min\n",
      "[CV] lr__C=100, lr__penalty=l1 .......................................\n",
      "[CV]  lr__C=10, lr__penalty=l2, score=0.968311506080449, total= 1.1min\n",
      "[CV] lr__C=100, lr__penalty=l1 .......................................\n"
     ]
    },
    {
     "name": "stderr",
     "output_type": "stream",
     "text": [
      "[Parallel(n_jobs=8)]: Done  34 tasks      | elapsed:  9.3min\n"
     ]
    },
    {
     "name": "stdout",
     "output_type": "stream",
     "text": [
      "[CV]  lr__C=10, lr__penalty=l2, score=0.9672476313019066, total= 1.1min\n",
      "[CV] lr__C=100, lr__penalty=l1 .......................................\n",
      "[CV]  lr__C=10, lr__penalty=l2, score=0.9703989703989705, total= 1.1min\n",
      "[CV] lr__C=100, lr__penalty=l1 .......................................\n",
      "[CV]  lr__C=100, lr__penalty=l1, score=0.9691408533021625, total= 9.0min\n",
      "[CV] lr__C=100, lr__penalty=l1 .......................................\n",
      "[CV]  lr__C=10, lr__penalty=l1, score=0.9713517305893359, total=14.7min\n",
      "[CV] lr__C=100, lr__penalty=l2 .......................................\n",
      "[CV]  lr__C=100, lr__penalty=l1, score=0.968768276991461, total= 8.6min\n",
      "[CV] lr__C=100, lr__penalty=l2 .......................................\n",
      "[CV]  lr__C=10, lr__penalty=l1, score=0.9691408533021625, total=16.3min\n",
      "[CV] lr__C=100, lr__penalty=l2 .......................................\n",
      "[CV]  lr__C=100, lr__penalty=l2, score=0.9692577440093513, total= 1.7min\n",
      "[CV] lr__C=100, lr__penalty=l2 .......................................\n"
     ]
    },
    {
     "name": "stderr",
     "output_type": "stream",
     "text": [
      "[Parallel(n_jobs=8)]: Done  41 out of  50 | elapsed: 19.8min remaining:  4.3min\n"
     ]
    },
    {
     "name": "stdout",
     "output_type": "stream",
     "text": [
      "[CV]  lr__C=100, lr__penalty=l2, score=0.9727612812719195, total= 1.7min\n",
      "[CV] lr__C=100, lr__penalty=l2 .......................................\n",
      "[CV]  lr__C=100, lr__penalty=l1, score=0.9725274725274725, total=10.6min\n",
      "[CV]  lr__C=100, lr__penalty=l1, score=0.9713517305893359, total=10.9min\n",
      "[CV]  lr__C=100, lr__penalty=l2, score=0.9707670720299345, total= 1.4min\n",
      "[CV]  lr__C=100, lr__penalty=l2, score=0.9702889226810153, total= 1.1min\n",
      "[CV]  lr__C=100, lr__penalty=l2, score=0.9718029718029718, total= 1.2min\n"
     ]
    },
    {
     "name": "stderr",
     "output_type": "stream",
     "text": [
      "[Parallel(n_jobs=8)]: Done  47 out of  50 | elapsed: 21.0min remaining:  1.3min\n"
     ]
    },
    {
     "name": "stdout",
     "output_type": "stream",
     "text": [
      "[CV]  lr__C=10, lr__penalty=l1, score=0.9734627075052606, total=17.7min\n",
      "[CV]  lr__C=100, lr__penalty=l1, score=0.9705159705159705, total= 4.7min\n",
      "[CV]  lr__C=10, lr__penalty=l1, score=0.9716859716859717, total=17.7min\n"
     ]
    },
    {
     "name": "stderr",
     "output_type": "stream",
     "text": [
      "[Parallel(n_jobs=8)]: Done  50 out of  50 | elapsed: 23.1min finished\n"
     ]
    },
    {
     "name": "stdout",
     "output_type": "stream",
     "text": [
      "Best score: 0.971\n",
      "Best parameters set:\n",
      "\tlr__C: 100\n",
      "\tlr__penalty: 'l2'\n",
      "0.9738072965388214\n"
     ]
    }
   ],
   "source": [
    "lr_model = LogisticRegression()\n",
    "# Create the pipeline \n",
    "clf = pipeline.Pipeline([('lr', lr_model)])\n",
    "\n",
    "my_scorer = metrics.make_scorer(f1_score, average='micro', greater_is_better=True)\n",
    "# parameter grid\n",
    "param_grid = {'lr__penalty': ('l1', 'l2'),\n",
    "              'lr__C': [0.01, 0.1, 1, 10, 100]\n",
    "             }\n",
    "\n",
    "# Initialize Grid Search Model\n",
    "model = GridSearchCV(estimator=clf, param_grid=param_grid, scoring=my_scorer,\n",
    "                                 verbose=10, n_jobs=8, iid=True, refit=True, cv=5)\n",
    "\n",
    "# Fit Grid Search Model\n",
    "model.fit(X_train_vect, y_train) \n",
    "print(\"Best score: %0.3f\" % model.best_score_)\n",
    "print(\"Best parameters set:\")\n",
    "best_parameters = model.best_estimator_.get_params()\n",
    "for param_name in sorted(param_grid.keys()):\n",
    "    print(\"\\t%s: %r\" % (param_name, best_parameters[param_name]))\n",
    "    \n",
    "predictions=model.predict(vect.transform(X_val))\n",
    "print(f1_score(predictions, y_val, average='micro'))    "
   ]
  },
  {
   "cell_type": "code",
   "execution_count": 0,
   "metadata": {
    "colab": {},
    "colab_type": "code",
    "collapsed": true,
    "id": "MmRGciong6K-"
   },
   "outputs": [],
   "source": [
    "y_predict=model.predict(vect.transform(test['Url']))"
   ]
  },
  {
   "cell_type": "code",
   "execution_count": 0,
   "metadata": {
    "colab": {},
    "colab_type": "code",
    "collapsed": true,
    "id": "OnLfbzvFvz9U"
   },
   "outputs": [],
   "source": []
  },
  {
   "cell_type": "code",
   "execution_count": 139,
   "metadata": {
    "colab": {
     "base_uri": "https://localhost:8080/",
     "height": 73
    },
    "colab_type": "code",
    "id": "U75Ry8l0hHBY",
    "outputId": "1792847b-33b0-4b5d-94e7-ae4b329cadca"
   },
   "outputs": [
    {
     "name": "stderr",
     "output_type": "stream",
     "text": [
      "/usr/local/lib/python3.6/dist-packages/sklearn/preprocessing/label.py:151: DeprecationWarning: The truth value of an empty array is ambiguous. Returning False, but in future this will result in an error. Use `array.size > 0` to check that an array is not empty.\n",
      "  if diff:\n"
     ]
    }
   ],
   "source": [
    "test['Tag']=lblencdr.inverse_transform(y_predict)"
   ]
  },
  {
   "cell_type": "code",
   "execution_count": 140,
   "metadata": {
    "colab": {
     "base_uri": "https://localhost:8080/",
     "height": 35
    },
    "colab_type": "code",
    "id": "vdbweD2CiAg3",
    "outputId": "cc96ce6c-af1c-4328-82c0-f1f8299381b3"
   },
   "outputs": [
    {
     "data": {
      "text/plain": [
       "Index(['Webpage_id', 'Domain', 'Url', 'Tag'], dtype='object')"
      ]
     },
     "execution_count": 140,
     "metadata": {
      "tags": []
     },
     "output_type": "execute_result"
    }
   ],
   "source": [
    "test.keys()"
   ]
  },
  {
   "cell_type": "code",
   "execution_count": 0,
   "metadata": {
    "colab": {},
    "colab_type": "code",
    "collapsed": true,
    "id": "bPhikrqbsLv-"
   },
   "outputs": [],
   "source": [
    "samp=test.loc[:,['Webpage_id','Tag']]"
   ]
  },
  {
   "cell_type": "code",
   "execution_count": 0,
   "metadata": {
    "colab": {},
    "colab_type": "code",
    "collapsed": true,
    "id": "miOpn7nUiuRF"
   },
   "outputs": [],
   "source": [
    "samp.to_csv('submission.csv', index=False)"
   ]
  },
  {
   "cell_type": "code",
   "execution_count": 94,
   "metadata": {
    "colab": {
     "base_uri": "https://localhost:8080/",
     "height": 35
    },
    "colab_type": "code",
    "id": "d3ygv4PbwqYD",
    "outputId": "83d55adf-4d41-4611-bc64-c6576880cc66"
   },
   "outputs": [
    {
     "name": "stdout",
     "output_type": "stream",
     "text": [
      "html_data.csv  submission.csv  test_nvPHrOx.csv  train.csv  train.zip\r\n"
     ]
    }
   ],
   "source": [
    "ls"
   ]
  },
  {
   "cell_type": "code",
   "execution_count": 0,
   "metadata": {
    "colab": {},
    "colab_type": "code",
    "collapsed": true,
    "id": "bcsmqirGwQFm"
   },
   "outputs": [],
   "source": [
    "from google.colab import files\n",
    "#files.download('')"
   ]
  },
  {
   "cell_type": "code",
   "execution_count": 0,
   "metadata": {
    "colab": {},
    "colab_type": "code",
    "collapsed": true,
    "id": "00rJ8HWdwfR2"
   },
   "outputs": [],
   "source": [
    "files.download('submission.csv')"
   ]
  },
  {
   "cell_type": "code",
   "execution_count": 0,
   "metadata": {
    "colab": {},
    "colab_type": "code",
    "collapsed": true,
    "id": "5y-W0kKxjOim"
   },
   "outputs": [],
   "source": []
  },
  {
   "cell_type": "code",
   "execution_count": 0,
   "metadata": {
    "colab": {},
    "colab_type": "code",
    "collapsed": true,
    "id": "LqbNBwYDkvZH"
   },
   "outputs": [],
   "source": [
    "from google.colab import files"
   ]
  },
  {
   "cell_type": "code",
   "execution_count": 0,
   "metadata": {
    "colab": {},
    "colab_type": "code",
    "collapsed": true,
    "id": "w1flBuoukz0L"
   },
   "outputs": [],
   "source": [
    "files.download('test_nvPHrOx (1).csv')"
   ]
  },
  {
   "cell_type": "code",
   "execution_count": 0,
   "metadata": {
    "colab": {
     "base_uri": "https://localhost:8080/",
     "height": 52
    },
    "colab_type": "code",
    "id": "We2eiLsfjnAR",
    "outputId": "15f57769-3260-4fa1-d09b-55f36be26d35"
   },
   "outputs": [
    {
     "name": "stdout",
     "output_type": "stream",
     "text": [
      "html_data.csv  submission.csv  test_nvPHrOx (1).csv  train.csv\r\n",
      "mod.csv        test.csv        test_nvPHrOx.csv      train.zip\r\n"
     ]
    }
   ],
   "source": [
    "ls"
   ]
  }
 ],
 "metadata": {
  "accelerator": "GPU",
  "colab": {
   "collapsed_sections": [],
   "name": "innoplexus_logistic_v2.ipynb",
   "provenance": [],
   "version": "0.3.2"
  },
  "kernelspec": {
   "display_name": "Python 3",
   "language": "python",
   "name": "python3"
  },
  "language_info": {
   "codemirror_mode": {
    "name": "ipython",
    "version": 3
   },
   "file_extension": ".py",
   "mimetype": "text/x-python",
   "name": "python",
   "nbconvert_exporter": "python",
   "pygments_lexer": "ipython3",
   "version": "3.6.2"
  }
 },
 "nbformat": 4,
 "nbformat_minor": 1
}
